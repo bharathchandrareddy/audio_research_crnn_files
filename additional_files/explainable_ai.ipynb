{
 "cells": [
  {
   "cell_type": "code",
   "execution_count": null,
   "metadata": {},
   "outputs": [],
   "source": [
    "import tensorflow as tf\n",
    "from sklearn.model_selection import train_test_split\n",
    "from sklearn.datasets import load_iris\n",
    "from sklearn.ensemble import RandomForestClassifier"
   ]
  },
  {
   "cell_type": "code",
   "execution_count": null,
   "metadata": {},
   "outputs": [],
   "source": [
    "X,y = load_iris(return_X_y=True)\n",
    "X_train,X_test,y_train,y_test = train_test_split(X,y,test_size=0.2,random_state=42)\n"
   ]
  },
  {
   "cell_type": "code",
   "execution_count": null,
   "metadata": {},
   "outputs": [],
   "source": [
    "print(f'x train={X_train.shape}')\n",
    "print(f'x test={X_test.shape}')\n",
    "print(f'y train={y_train.shape}')\n",
    "print(f'y test={y_test.shape}')"
   ]
  },
  {
   "cell_type": "code",
   "execution_count": null,
   "metadata": {},
   "outputs": [],
   "source": [
    "model = RandomForestClassifier(n_estimators=100,random_state=42)\n",
    "model.fit(X_train,y_train)"
   ]
  },
  {
   "cell_type": "markdown",
   "metadata": {},
   "source": [
    "# creatin Shap explanations\n"
   ]
  },
  {
   "cell_type": "markdown",
   "metadata": {},
   "source": []
  },
  {
   "cell_type": "code",
   "execution_count": null,
   "metadata": {},
   "outputs": [],
   "source": [
    "import shap\n",
    "explainer = shap.TreeExplainer(model,X_train)\n",
    "shap_values = explainer(X_train,check_additivity=False)\n",
    "\n",
    "# Visualize the first prediction's explanation for the first class\n",
    "class_idx = 0  # Change this index to visualize other classes\n",
    "shap.initjs()\n",
    "\n",
    "# Generate force plot for the first prediction of the specified class\n",
    "shap.force_plot(explainer.expected_value[class_idx], shap_values[class_idx][0], X_test[0], feature_names=load_iris().feature_names)\n",
    "\n",
    "# Summary plot for the entire test set\n",
    "shap.summary_plot(shap_values, X_test, feature_names=load_iris().feature_names)"
   ]
  },
  {
   "cell_type": "code",
   "execution_count": null,
   "metadata": {},
   "outputs": [],
   "source": [
    "import shap\n",
    "import numpy as np\n",
    "import sklearn\n",
    "from sklearn.model_selection import train_test_split\n",
    "from sklearn.ensemble import RandomForestClassifier\n",
    "from sklearn.datasets import load_iris\n",
    "\n",
    "# Load dataset\n",
    "X, y = load_iris(return_X_y=True)\n",
    "X_train, X_test, y_train, y_test = train_test_split(X, y, test_size=0.2, random_state=42)\n",
    "\n",
    "# Train model\n",
    "model = RandomForestClassifier(n_estimators=100, random_state=42)\n",
    "model.fit(X_train, y_train)\n",
    "\n",
    "# Create SHAP explainer with TreeExplainer\n",
    "explainer = shap.TreeExplainer(model)\n",
    "\n",
    "# Calculate SHAP values with additivity check disabled\n",
    "shap_values = explainer.shap_values(X_test, check_additivity=False)\n",
    "\n",
    "# Ensure the shapes are correct for the class index\n",
    "class_idx = 0  # Change this index to visualize other classes\n",
    "\n",
    "# Check the shapes of SHAP values and feature inputs\n",
    "print(f\"Number of classes: {len(shap_values)}\")\n",
    "print(f\"Shape of shap_values[{class_idx}]: {shap_values[class_idx].shape}\")\n",
    "print(f\"Shape of X_test: {X_test.shape}\")\n",
    "\n",
    "# Initialize JS visualization for Jupyter\n",
    "shap.initjs()\n",
    "\n",
    "# Generate force plot for the first prediction of the specified class\n",
    "shap.force_plot(explainer.expected_value[class_idx], shap_values[class_idx][0], X_test[0], feature_names=load_iris().feature_names)\n",
    "\n",
    "# Summary plot for the entire test set\n",
    "shap.summary_plot(shap_values[class_idx], X_test, feature_names=load_iris().feature_names)\n"
   ]
  }
 ],
 "metadata": {
  "kernelspec": {
   "display_name": "crnn",
   "language": "python",
   "name": "python3"
  },
  "language_info": {
   "codemirror_mode": {
    "name": "ipython",
    "version": 3
   },
   "file_extension": ".py",
   "mimetype": "text/x-python",
   "name": "python",
   "nbconvert_exporter": "python",
   "pygments_lexer": "ipython3",
   "version": "3.9.19"
  }
 },
 "nbformat": 4,
 "nbformat_minor": 2
}
